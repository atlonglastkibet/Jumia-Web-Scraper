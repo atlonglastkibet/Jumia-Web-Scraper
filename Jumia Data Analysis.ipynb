{
 "cells": [
  {
   "cell_type": "markdown",
   "metadata": {},
   "source": [
    "## Jumia Scrape Data Analysis"
   ]
  },
  {
   "cell_type": "markdown",
   "metadata": {},
   "source": [
    "Import pandas library for data analysis and manipulation"
   ]
  },
  {
   "cell_type": "code",
   "execution_count": 1,
   "metadata": {},
   "outputs": [],
   "source": [
    "import pandas as pd"
   ]
  },
  {
   "cell_type": "code",
   "execution_count": 2,
   "metadata": {},
   "outputs": [],
   "source": [
    "df = pd.read_csv('jumia_products.csv')"
   ]
  },
  {
   "cell_type": "markdown",
   "metadata": {},
   "source": [
    "### Summary of data"
   ]
  },
  {
   "cell_type": "code",
   "execution_count": 4,
   "metadata": {},
   "outputs": [
    {
     "data": {
      "text/html": [
       "<div>\n",
       "<style scoped>\n",
       "    .dataframe tbody tr th:only-of-type {\n",
       "        vertical-align: middle;\n",
       "    }\n",
       "\n",
       "    .dataframe tbody tr th {\n",
       "        vertical-align: top;\n",
       "    }\n",
       "\n",
       "    .dataframe thead th {\n",
       "        text-align: right;\n",
       "    }\n",
       "</style>\n",
       "<table border=\"1\" class=\"dataframe\">\n",
       "  <thead>\n",
       "    <tr style=\"text-align: right;\">\n",
       "      <th></th>\n",
       "      <th>Product Name</th>\n",
       "      <th>Price</th>\n",
       "      <th>Original Price</th>\n",
       "      <th>Discount</th>\n",
       "      <th>Stock Availability</th>\n",
       "      <th>Image URL</th>\n",
       "      <th>Rating</th>\n",
       "      <th>Product Link</th>\n",
       "    </tr>\n",
       "  </thead>\n",
       "  <tbody>\n",
       "    <tr>\n",
       "      <th>0</th>\n",
       "      <td>Jameson Jameson Irish Whiskey - 750 Ml</td>\n",
       "      <td>KSh 2,099</td>\n",
       "      <td>KSh 2,930</td>\n",
       "      <td>28%</td>\n",
       "      <td>671 items left</td>\n",
       "      <td>data:image/gif;base64,R0lGODlhAQABAIAAAAAAAP//...</td>\n",
       "      <td>No rating available</td>\n",
       "      <td>https://www.jumia.co.ke/jameson-jameson-irish-...</td>\n",
       "    </tr>\n",
       "    <tr>\n",
       "      <th>1</th>\n",
       "      <td>NIVEA Perfect &amp; Radiant Even Tone Day And Nigh...</td>\n",
       "      <td>KSh 1,260</td>\n",
       "      <td>KSh 1,800</td>\n",
       "      <td>30%</td>\n",
       "      <td>660 items left</td>\n",
       "      <td>data:image/gif;base64,R0lGODlhAQABAIAAAAAAAP//...</td>\n",
       "      <td>No rating available</td>\n",
       "      <td>https://www.jumia.co.ke/nivea-perfect-radiant-...</td>\n",
       "    </tr>\n",
       "    <tr>\n",
       "      <th>2</th>\n",
       "      <td>Sony Bluetooth Headphone Wh-ch520 - Beige (1YR...</td>\n",
       "      <td>KSh 4,364</td>\n",
       "      <td>KSh 8,995</td>\n",
       "      <td>51%</td>\n",
       "      <td>5 items left</td>\n",
       "      <td>data:image/gif;base64,R0lGODlhAQABAIAAAAAAAP//...</td>\n",
       "      <td>No rating available</td>\n",
       "      <td>https://www.jumia.co.ke/sony-bluetooth-headpho...</td>\n",
       "    </tr>\n",
       "    <tr>\n",
       "      <th>3</th>\n",
       "      <td>XIAOMI Redmi A3, 6.71\", 4GB RAM +128GB (Dual S...</td>\n",
       "      <td>KSh 10,103</td>\n",
       "      <td>KSh 11,000</td>\n",
       "      <td>8%</td>\n",
       "      <td>71 items left</td>\n",
       "      <td>data:image/gif;base64,R0lGODlhAQABAIAAAAAAAP//...</td>\n",
       "      <td>No rating available</td>\n",
       "      <td>https://www.jumia.co.ke/xiaomi-redmi-a3-6.71-4...</td>\n",
       "    </tr>\n",
       "    <tr>\n",
       "      <th>4</th>\n",
       "      <td>NIVEA Radiant &amp; Beauty Advanced Care Lotion Fo...</td>\n",
       "      <td>KSh 1,095</td>\n",
       "      <td>KSh 1,460</td>\n",
       "      <td>25%</td>\n",
       "      <td>1240 items left</td>\n",
       "      <td>data:image/gif;base64,R0lGODlhAQABAIAAAAAAAP//...</td>\n",
       "      <td>No rating available</td>\n",
       "      <td>https://www.jumia.co.ke/nivea-radiant-beauty-a...</td>\n",
       "    </tr>\n",
       "  </tbody>\n",
       "</table>\n",
       "</div>"
      ],
      "text/plain": [
       "                                        Product Name       Price  \\\n",
       "0             Jameson Jameson Irish Whiskey - 750 Ml   KSh 2,099   \n",
       "1  NIVEA Perfect & Radiant Even Tone Day And Nigh...   KSh 1,260   \n",
       "2  Sony Bluetooth Headphone Wh-ch520 - Beige (1YR...   KSh 4,364   \n",
       "3  XIAOMI Redmi A3, 6.71\", 4GB RAM +128GB (Dual S...  KSh 10,103   \n",
       "4  NIVEA Radiant & Beauty Advanced Care Lotion Fo...   KSh 1,095   \n",
       "\n",
       "  Original Price Discount Stock Availability  \\\n",
       "0      KSh 2,930      28%     671 items left   \n",
       "1      KSh 1,800      30%     660 items left   \n",
       "2      KSh 8,995      51%       5 items left   \n",
       "3     KSh 11,000       8%      71 items left   \n",
       "4      KSh 1,460      25%    1240 items left   \n",
       "\n",
       "                                           Image URL               Rating  \\\n",
       "0  data:image/gif;base64,R0lGODlhAQABAIAAAAAAAP//...  No rating available   \n",
       "1  data:image/gif;base64,R0lGODlhAQABAIAAAAAAAP//...  No rating available   \n",
       "2  data:image/gif;base64,R0lGODlhAQABAIAAAAAAAP//...  No rating available   \n",
       "3  data:image/gif;base64,R0lGODlhAQABAIAAAAAAAP//...  No rating available   \n",
       "4  data:image/gif;base64,R0lGODlhAQABAIAAAAAAAP//...  No rating available   \n",
       "\n",
       "                                        Product Link  \n",
       "0  https://www.jumia.co.ke/jameson-jameson-irish-...  \n",
       "1  https://www.jumia.co.ke/nivea-perfect-radiant-...  \n",
       "2  https://www.jumia.co.ke/sony-bluetooth-headpho...  \n",
       "3  https://www.jumia.co.ke/xiaomi-redmi-a3-6.71-4...  \n",
       "4  https://www.jumia.co.ke/nivea-radiant-beauty-a...  "
      ]
     },
     "execution_count": 4,
     "metadata": {},
     "output_type": "execute_result"
    }
   ],
   "source": [
    "df.head()"
   ]
  },
  {
   "cell_type": "code",
   "execution_count": 3,
   "metadata": {},
   "outputs": [
    {
     "name": "stdout",
     "output_type": "stream",
     "text": [
      "<class 'pandas.core.frame.DataFrame'>\n",
      "RangeIndex: 200 entries, 0 to 199\n",
      "Data columns (total 8 columns):\n",
      " #   Column              Non-Null Count  Dtype \n",
      "---  ------              --------------  ----- \n",
      " 0   Product Name        194 non-null    object\n",
      " 1   Price               194 non-null    object\n",
      " 2   Original Price      181 non-null    object\n",
      " 3   Discount            200 non-null    object\n",
      " 4   Stock Availability  200 non-null    object\n",
      " 5   Image URL           200 non-null    object\n",
      " 6   Rating              200 non-null    object\n",
      " 7   Product Link        200 non-null    object\n",
      "dtypes: object(8)\n",
      "memory usage: 12.6+ KB\n"
     ]
    }
   ],
   "source": [
    "df.info()"
   ]
  },
  {
   "cell_type": "code",
   "execution_count": 5,
   "metadata": {},
   "outputs": [
    {
     "data": {
      "text/html": [
       "<div>\n",
       "<style scoped>\n",
       "    .dataframe tbody tr th:only-of-type {\n",
       "        vertical-align: middle;\n",
       "    }\n",
       "\n",
       "    .dataframe tbody tr th {\n",
       "        vertical-align: top;\n",
       "    }\n",
       "\n",
       "    .dataframe thead th {\n",
       "        text-align: right;\n",
       "    }\n",
       "</style>\n",
       "<table border=\"1\" class=\"dataframe\">\n",
       "  <thead>\n",
       "    <tr style=\"text-align: right;\">\n",
       "      <th></th>\n",
       "      <th>Product Name</th>\n",
       "      <th>Price</th>\n",
       "      <th>Original Price</th>\n",
       "      <th>Discount</th>\n",
       "      <th>Stock Availability</th>\n",
       "      <th>Image URL</th>\n",
       "      <th>Rating</th>\n",
       "      <th>Product Link</th>\n",
       "    </tr>\n",
       "  </thead>\n",
       "  <tbody>\n",
       "    <tr>\n",
       "      <th>count</th>\n",
       "      <td>194</td>\n",
       "      <td>194</td>\n",
       "      <td>181</td>\n",
       "      <td>200</td>\n",
       "      <td>200</td>\n",
       "      <td>200</td>\n",
       "      <td>200</td>\n",
       "      <td>200</td>\n",
       "    </tr>\n",
       "    <tr>\n",
       "      <th>unique</th>\n",
       "      <td>175</td>\n",
       "      <td>165</td>\n",
       "      <td>136</td>\n",
       "      <td>48</td>\n",
       "      <td>16</td>\n",
       "      <td>1</td>\n",
       "      <td>1</td>\n",
       "      <td>177</td>\n",
       "    </tr>\n",
       "    <tr>\n",
       "      <th>top</th>\n",
       "      <td>Smart Pro 20L Digital Microwave Oven (SMV-20L-...</td>\n",
       "      <td>KSh 23,899</td>\n",
       "      <td>KSh 15,000</td>\n",
       "      <td>No Discount</td>\n",
       "      <td>Stock info unavailable</td>\n",
       "      <td>data:image/gif;base64,R0lGODlhAQABAIAAAAAAAP//...</td>\n",
       "      <td>No rating available</td>\n",
       "      <td>https://www.jumia.co.ke/No link</td>\n",
       "    </tr>\n",
       "    <tr>\n",
       "      <th>freq</th>\n",
       "      <td>3</td>\n",
       "      <td>4</td>\n",
       "      <td>5</td>\n",
       "      <td>19</td>\n",
       "      <td>185</td>\n",
       "      <td>200</td>\n",
       "      <td>200</td>\n",
       "      <td>6</td>\n",
       "    </tr>\n",
       "  </tbody>\n",
       "</table>\n",
       "</div>"
      ],
      "text/plain": [
       "                                             Product Name       Price  \\\n",
       "count                                                 194         194   \n",
       "unique                                                175         165   \n",
       "top     Smart Pro 20L Digital Microwave Oven (SMV-20L-...  KSh 23,899   \n",
       "freq                                                    3           4   \n",
       "\n",
       "       Original Price     Discount      Stock Availability  \\\n",
       "count             181          200                     200   \n",
       "unique            136           48                      16   \n",
       "top        KSh 15,000  No Discount  Stock info unavailable   \n",
       "freq                5           19                     185   \n",
       "\n",
       "                                                Image URL  \\\n",
       "count                                                 200   \n",
       "unique                                                  1   \n",
       "top     data:image/gif;base64,R0lGODlhAQABAIAAAAAAAP//...   \n",
       "freq                                                  200   \n",
       "\n",
       "                     Rating                     Product Link  \n",
       "count                   200                              200  \n",
       "unique                    1                              177  \n",
       "top     No rating available  https://www.jumia.co.ke/No link  \n",
       "freq                    200                                6  "
      ]
     },
     "execution_count": 5,
     "metadata": {},
     "output_type": "execute_result"
    }
   ],
   "source": [
    "df.describe()"
   ]
  },
  {
   "cell_type": "code",
   "execution_count": 6,
   "metadata": {},
   "outputs": [
    {
     "data": {
      "text/plain": [
       "Index(['Product Name', 'Price', 'Original Price', 'Discount',\n",
       "       'Stock Availability', 'Image URL', 'Rating', 'Product Link'],\n",
       "      dtype='object')"
      ]
     },
     "execution_count": 6,
     "metadata": {},
     "output_type": "execute_result"
    }
   ],
   "source": [
    "df.columns"
   ]
  },
  {
   "cell_type": "markdown",
   "metadata": {},
   "source": [
    "### Descriptive statistics"
   ]
  },
  {
   "cell_type": "code",
   "execution_count": 9,
   "metadata": {},
   "outputs": [
    {
     "data": {
      "text/plain": [
       "Product Name\n",
       "Smart Pro 20L Digital Microwave Oven (SMV-20L-V4 2), Black (1YR WRTY)                   3\n",
       "NIVEA Radiant & Beauty Advanced Care Lotion For Women - 400ml (Pack Of 2)               2\n",
       "XIAOMI Redmi A3, 6.71\", 4GB RAM +128GB (Dual SIM), 5000mAh, Forest Green (2YRs WRTY)    2\n",
       "Roch RFR-120S-I Single Door Refrigerator - 90 Litres - Silver (1Y WRTY)                 2\n",
       "Vitron HTC5068US 50” Smart Android 4K UHD LED TV - Black (1YR WRTY)                     2\n",
       "XIAOMI A3 Pro, 6.88\", 4GB RAM + 128GB (Dual Sim), 5160mAH,Midnight Black (2YRS WRTY)    2\n",
       "Smart Pro SCF-180-G Chest Freezer, 140L - Silver (1YR WRTY)                             2\n",
       "Roch RECK-531SS - 50x55CM 3 Gas Burners + 1 Hotplate Cooker - Silver (1YR WRTY)         2\n",
       "Roch RECK-531BL - 50x55CM 3 Gas Burners + 1 Hotplate Cooker - Black (1YR WRTY)          2\n",
       "Solarmax 100 WATTS SOLAR AFRICA FULLKIT WITH 10M DROPPING CABLE                         2\n",
       "Name: count, dtype: int64"
      ]
     },
     "execution_count": 9,
     "metadata": {},
     "output_type": "execute_result"
    }
   ],
   "source": [
    "df['Product Name'].value_counts().head(10)"
   ]
  },
  {
   "cell_type": "code",
   "execution_count": 12,
   "metadata": {},
   "outputs": [
    {
     "data": {
      "text/plain": [
       "Product Name                                                                          Price     \n",
       "Smart Pro 20L Digital Microwave Oven (SMV-20L-V4 2), Black (1YR WRTY)                 KSh 7,799     3\n",
       "12 Pcs Silicone Cooking Utensils Kitchen Utensil Set                                  KSh 1,402     2\n",
       "Samsung Galaxy A05, 6.7'' 4GB RAM + 64GB ROM (Dual Sim) 50MP Camera, 5000mAh - Black  KSh 10,979    2\n",
       "Roch RECK-531SS - 50x55CM 3 Gas Burners + 1 Hotplate Cooker - Silver (1YR WRTY)       KSh 23,899    2\n",
       "Smartwatch Business Bluetooth Waterproof Sport                                        KSh 574       2\n",
       "Solarmax 100 WATTS SOLAR AFRICA FULLKIT WITH 10M DROPPING CABLE                       KSh 10,999    2\n",
       "Smart Pro SCF-180-G Chest Freezer, 140L - Silver (1YR WRTY)                           KSh 28,699    2\n",
       "Roch RFR-120S-I Single Door Refrigerator - 90 Litres - Silver (1Y WRTY)               KSh 17,050    2\n",
       "NIVEA Radiant & Beauty Advanced Care Lotion For Women - 400ml (Pack Of 2)             KSh 1,095     2\n",
       "Vitron HTC5068US 50” Smart Android 4K UHD LED TV - Black (1YR WRTY)                   KSh 33,999    2\n",
       "Name: count, dtype: int64"
      ]
     },
     "execution_count": 12,
     "metadata": {},
     "output_type": "execute_result"
    }
   ],
   "source": [
    "df[['Product Name', 'Price']].value_counts().head(10)"
   ]
  },
  {
   "cell_type": "code",
   "execution_count": 13,
   "metadata": {},
   "outputs": [
    {
     "data": {
      "text/plain": [
       "Price\n",
       "KSh 23,899    4\n",
       "KSh 10,999    4\n",
       "KSh 9,799     3\n",
       "KSh 33,999    3\n",
       "KSh 7,799     3\n",
       "KSh 1,095     3\n",
       "KSh 10,979    2\n",
       "KSh 574       2\n",
       "KSh 28,699    2\n",
       "KSh 11,999    2\n",
       "Name: count, dtype: int64"
      ]
     },
     "execution_count": 13,
     "metadata": {},
     "output_type": "execute_result"
    }
   ],
   "source": [
    "df['Price'].value_counts().head(10)"
   ]
  },
  {
   "cell_type": "code",
   "execution_count": null,
   "metadata": {},
   "outputs": [],
   "source": []
  }
 ],
 "metadata": {
  "kernelspec": {
   "display_name": "venv",
   "language": "python",
   "name": "python3"
  },
  "language_info": {
   "codemirror_mode": {
    "name": "ipython",
    "version": 3
   },
   "file_extension": ".py",
   "mimetype": "text/x-python",
   "name": "python",
   "nbconvert_exporter": "python",
   "pygments_lexer": "ipython3",
   "version": "3.12.7"
  }
 },
 "nbformat": 4,
 "nbformat_minor": 2
}
